{
 "cells": [
  {
   "cell_type": "markdown",
   "id": "7c1e56f9-c758-4b79-a6f4-ae93a70cc2fa",
   "metadata": {},
   "source": [
    "# Credit Card Fraud Detection\n",
    "## Context\n",
    "#### For any bank or financial organization, credit card fraud detection is of utmost importance. We have to spot potential fraud so that consumers can not bill for goods that they haven’t purchased. The aim is, therefore, to create a classifier that indicates whether a requested transaction is a fraud.\n",
    "\n",
    "## Content\n",
    "#### The dataset contains transactions made by credit cards in September 2013 by European cardholders.\n",
    "#### This dataset presents transactions that occurred in two days, where we have 492 frauds out of 284,807 transactions. The dataset is highly unbalanced, the positive class (frauds) account for 0.172% of all transactions.\n",
    "##### It contains numerical input variables which are the result of a PCA transformation.\n",
    "##### Features description:\n",
    "###### 1- Features V1, V2, … V28 are the principal components obtained with PCA.\n",
    "###### 2- 'Time' feature contains the seconds elapsed between each transaction and the first transaction in the dataset.\n",
    "###### 3- 'Amount' feature is the transaction Amount.\n",
    "###### 4- 'Class' feature is the response variable and it takes value 1 in case of fraud and 0 otherwise."
   ]
  },
  {
   "cell_type": "code",
   "execution_count": 1,
   "id": "019cbe07-06af-4fa7-8a1d-832fa02b987f",
   "metadata": {},
   "outputs": [],
   "source": [
    "import numpy as np\n",
    "import pandas as pd\n",
    "import sklearn\n",
    "import scipy\n",
    "import matplotlib.pyplot as plt\n",
    "import seaborn as sns\n",
    "from sklearn.metrics import classification_report,accuracy_score\n",
    "from sklearn.ensemble import IsolationForest\n",
    "from sklearn.neighbors import LocalOutlierFactor\n",
    "from sklearn.svm import OneClassSVM\n",
    "from pylab import rcParams\n",
    "from sklearn import metrics\n",
    "from sklearn.linear_model import LogisticRegression\n",
    "from sklearn.metrics import confusion_matrix\n",
    "from sklearn.model_selection import train_test_split\n",
    "from sklearn.model_selection import cross_val_score\n",
    "from imblearn.over_sampling import SMOTE\n",
    "from sklearn.neighbors import KNeighborsClassifier\n",
    "from sklearn.ensemble import RandomForestClassifier"
   ]
  },
  {
   "cell_type": "markdown",
   "id": "a9f9b7aa-7bd8-486a-8c8d-1d86d8e60813",
   "metadata": {},
   "source": [
    "## Data exploration and visualization"
   ]
  },
  {
   "cell_type": "code",
   "execution_count": 2,
   "id": "b914b004-a46e-4987-b5c5-7c17a2235dea",
   "metadata": {},
   "outputs": [
    {
     "data": {
      "text/html": [
       "<div>\n",
       "<style scoped>\n",
       "    .dataframe tbody tr th:only-of-type {\n",
       "        vertical-align: middle;\n",
       "    }\n",
       "\n",
       "    .dataframe tbody tr th {\n",
       "        vertical-align: top;\n",
       "    }\n",
       "\n",
       "    .dataframe thead th {\n",
       "        text-align: right;\n",
       "    }\n",
       "</style>\n",
       "<table border=\"1\" class=\"dataframe\">\n",
       "  <thead>\n",
       "    <tr style=\"text-align: right;\">\n",
       "      <th></th>\n",
       "      <th>Time</th>\n",
       "      <th>V1</th>\n",
       "      <th>V2</th>\n",
       "      <th>V3</th>\n",
       "      <th>V4</th>\n",
       "      <th>V5</th>\n",
       "      <th>V6</th>\n",
       "      <th>V7</th>\n",
       "      <th>V8</th>\n",
       "      <th>V9</th>\n",
       "      <th>...</th>\n",
       "      <th>V21</th>\n",
       "      <th>V22</th>\n",
       "      <th>V23</th>\n",
       "      <th>V24</th>\n",
       "      <th>V25</th>\n",
       "      <th>V26</th>\n",
       "      <th>V27</th>\n",
       "      <th>V28</th>\n",
       "      <th>Amount</th>\n",
       "      <th>Class</th>\n",
       "    </tr>\n",
       "  </thead>\n",
       "  <tbody>\n",
       "    <tr>\n",
       "      <th>0</th>\n",
       "      <td>0.0</td>\n",
       "      <td>-1.359807</td>\n",
       "      <td>-0.072781</td>\n",
       "      <td>2.536347</td>\n",
       "      <td>1.378155</td>\n",
       "      <td>-0.338321</td>\n",
       "      <td>0.462388</td>\n",
       "      <td>0.239599</td>\n",
       "      <td>0.098698</td>\n",
       "      <td>0.363787</td>\n",
       "      <td>...</td>\n",
       "      <td>-0.018307</td>\n",
       "      <td>0.277838</td>\n",
       "      <td>-0.110474</td>\n",
       "      <td>0.066928</td>\n",
       "      <td>0.128539</td>\n",
       "      <td>-0.189115</td>\n",
       "      <td>0.133558</td>\n",
       "      <td>-0.021053</td>\n",
       "      <td>149.62</td>\n",
       "      <td>0</td>\n",
       "    </tr>\n",
       "    <tr>\n",
       "      <th>1</th>\n",
       "      <td>0.0</td>\n",
       "      <td>1.191857</td>\n",
       "      <td>0.266151</td>\n",
       "      <td>0.166480</td>\n",
       "      <td>0.448154</td>\n",
       "      <td>0.060018</td>\n",
       "      <td>-0.082361</td>\n",
       "      <td>-0.078803</td>\n",
       "      <td>0.085102</td>\n",
       "      <td>-0.255425</td>\n",
       "      <td>...</td>\n",
       "      <td>-0.225775</td>\n",
       "      <td>-0.638672</td>\n",
       "      <td>0.101288</td>\n",
       "      <td>-0.339846</td>\n",
       "      <td>0.167170</td>\n",
       "      <td>0.125895</td>\n",
       "      <td>-0.008983</td>\n",
       "      <td>0.014724</td>\n",
       "      <td>2.69</td>\n",
       "      <td>0</td>\n",
       "    </tr>\n",
       "    <tr>\n",
       "      <th>2</th>\n",
       "      <td>1.0</td>\n",
       "      <td>-1.358354</td>\n",
       "      <td>-1.340163</td>\n",
       "      <td>1.773209</td>\n",
       "      <td>0.379780</td>\n",
       "      <td>-0.503198</td>\n",
       "      <td>1.800499</td>\n",
       "      <td>0.791461</td>\n",
       "      <td>0.247676</td>\n",
       "      <td>-1.514654</td>\n",
       "      <td>...</td>\n",
       "      <td>0.247998</td>\n",
       "      <td>0.771679</td>\n",
       "      <td>0.909412</td>\n",
       "      <td>-0.689281</td>\n",
       "      <td>-0.327642</td>\n",
       "      <td>-0.139097</td>\n",
       "      <td>-0.055353</td>\n",
       "      <td>-0.059752</td>\n",
       "      <td>378.66</td>\n",
       "      <td>0</td>\n",
       "    </tr>\n",
       "    <tr>\n",
       "      <th>3</th>\n",
       "      <td>1.0</td>\n",
       "      <td>-0.966272</td>\n",
       "      <td>-0.185226</td>\n",
       "      <td>1.792993</td>\n",
       "      <td>-0.863291</td>\n",
       "      <td>-0.010309</td>\n",
       "      <td>1.247203</td>\n",
       "      <td>0.237609</td>\n",
       "      <td>0.377436</td>\n",
       "      <td>-1.387024</td>\n",
       "      <td>...</td>\n",
       "      <td>-0.108300</td>\n",
       "      <td>0.005274</td>\n",
       "      <td>-0.190321</td>\n",
       "      <td>-1.175575</td>\n",
       "      <td>0.647376</td>\n",
       "      <td>-0.221929</td>\n",
       "      <td>0.062723</td>\n",
       "      <td>0.061458</td>\n",
       "      <td>123.50</td>\n",
       "      <td>0</td>\n",
       "    </tr>\n",
       "    <tr>\n",
       "      <th>4</th>\n",
       "      <td>2.0</td>\n",
       "      <td>-1.158233</td>\n",
       "      <td>0.877737</td>\n",
       "      <td>1.548718</td>\n",
       "      <td>0.403034</td>\n",
       "      <td>-0.407193</td>\n",
       "      <td>0.095921</td>\n",
       "      <td>0.592941</td>\n",
       "      <td>-0.270533</td>\n",
       "      <td>0.817739</td>\n",
       "      <td>...</td>\n",
       "      <td>-0.009431</td>\n",
       "      <td>0.798278</td>\n",
       "      <td>-0.137458</td>\n",
       "      <td>0.141267</td>\n",
       "      <td>-0.206010</td>\n",
       "      <td>0.502292</td>\n",
       "      <td>0.219422</td>\n",
       "      <td>0.215153</td>\n",
       "      <td>69.99</td>\n",
       "      <td>0</td>\n",
       "    </tr>\n",
       "  </tbody>\n",
       "</table>\n",
       "<p>5 rows × 31 columns</p>\n",
       "</div>"
      ],
      "text/plain": [
       "   Time        V1        V2        V3        V4        V5        V6        V7  \\\n",
       "0   0.0 -1.359807 -0.072781  2.536347  1.378155 -0.338321  0.462388  0.239599   \n",
       "1   0.0  1.191857  0.266151  0.166480  0.448154  0.060018 -0.082361 -0.078803   \n",
       "2   1.0 -1.358354 -1.340163  1.773209  0.379780 -0.503198  1.800499  0.791461   \n",
       "3   1.0 -0.966272 -0.185226  1.792993 -0.863291 -0.010309  1.247203  0.237609   \n",
       "4   2.0 -1.158233  0.877737  1.548718  0.403034 -0.407193  0.095921  0.592941   \n",
       "\n",
       "         V8        V9  ...       V21       V22       V23       V24       V25  \\\n",
       "0  0.098698  0.363787  ... -0.018307  0.277838 -0.110474  0.066928  0.128539   \n",
       "1  0.085102 -0.255425  ... -0.225775 -0.638672  0.101288 -0.339846  0.167170   \n",
       "2  0.247676 -1.514654  ...  0.247998  0.771679  0.909412 -0.689281 -0.327642   \n",
       "3  0.377436 -1.387024  ... -0.108300  0.005274 -0.190321 -1.175575  0.647376   \n",
       "4 -0.270533  0.817739  ... -0.009431  0.798278 -0.137458  0.141267 -0.206010   \n",
       "\n",
       "        V26       V27       V28  Amount  Class  \n",
       "0 -0.189115  0.133558 -0.021053  149.62      0  \n",
       "1  0.125895 -0.008983  0.014724    2.69      0  \n",
       "2 -0.139097 -0.055353 -0.059752  378.66      0  \n",
       "3 -0.221929  0.062723  0.061458  123.50      0  \n",
       "4  0.502292  0.219422  0.215153   69.99      0  \n",
       "\n",
       "[5 rows x 31 columns]"
      ]
     },
     "execution_count": 2,
     "metadata": {},
     "output_type": "execute_result"
    }
   ],
   "source": [
    "#importing the data set\n",
    "data=pd.read_csv(\"creditcard.csv\")\n",
    "data.head()"
   ]
  },
  {
   "cell_type": "code",
   "execution_count": 3,
   "id": "f1741618-9eb6-43ee-9cdb-d2c0601d522d",
   "metadata": {},
   "outputs": [
    {
     "name": "stdout",
     "output_type": "stream",
     "text": [
      "<class 'pandas.core.frame.DataFrame'>\n",
      "RangeIndex: 284807 entries, 0 to 284806\n",
      "Data columns (total 31 columns):\n",
      " #   Column  Non-Null Count   Dtype  \n",
      "---  ------  --------------   -----  \n",
      " 0   Time    284807 non-null  float64\n",
      " 1   V1      284807 non-null  float64\n",
      " 2   V2      284807 non-null  float64\n",
      " 3   V3      284807 non-null  float64\n",
      " 4   V4      284807 non-null  float64\n",
      " 5   V5      284807 non-null  float64\n",
      " 6   V6      284807 non-null  float64\n",
      " 7   V7      284807 non-null  float64\n",
      " 8   V8      284807 non-null  float64\n",
      " 9   V9      284807 non-null  float64\n",
      " 10  V10     284807 non-null  float64\n",
      " 11  V11     284807 non-null  float64\n",
      " 12  V12     284807 non-null  float64\n",
      " 13  V13     284807 non-null  float64\n",
      " 14  V14     284807 non-null  float64\n",
      " 15  V15     284807 non-null  float64\n",
      " 16  V16     284807 non-null  float64\n",
      " 17  V17     284807 non-null  float64\n",
      " 18  V18     284807 non-null  float64\n",
      " 19  V19     284807 non-null  float64\n",
      " 20  V20     284807 non-null  float64\n",
      " 21  V21     284807 non-null  float64\n",
      " 22  V22     284807 non-null  float64\n",
      " 23  V23     284807 non-null  float64\n",
      " 24  V24     284807 non-null  float64\n",
      " 25  V25     284807 non-null  float64\n",
      " 26  V26     284807 non-null  float64\n",
      " 27  V27     284807 non-null  float64\n",
      " 28  V28     284807 non-null  float64\n",
      " 29  Amount  284807 non-null  float64\n",
      " 30  Class   284807 non-null  int64  \n",
      "dtypes: float64(30), int64(1)\n",
      "memory usage: 67.4 MB\n"
     ]
    }
   ],
   "source": [
    "data.info()"
   ]
  },
  {
   "cell_type": "markdown",
   "id": "1ae6982f-481c-43fe-ba88-c2c520ed08a1",
   "metadata": {},
   "source": [
    "### cleaning missing Data"
   ]
  },
  {
   "cell_type": "code",
   "execution_count": 4,
   "id": "ad05321f-a42f-4564-8d72-c5778c7f0db1",
   "metadata": {},
   "outputs": [
    {
     "data": {
      "text/plain": [
       "False"
      ]
     },
     "execution_count": 4,
     "metadata": {},
     "output_type": "execute_result"
    }
   ],
   "source": [
    "# Trying to check if there are any null values as part of an exploratory data analysis \n",
    "data.isnull().values.any()"
   ]
  },
  {
   "cell_type": "code",
   "execution_count": 5,
   "id": "d2c10692-c168-4c0b-904a-502d37645870",
   "metadata": {},
   "outputs": [
    {
     "data": {
      "text/plain": [
       "Text(0, 0.5, 'Frequency')"
      ]
     },
     "execution_count": 5,
     "metadata": {},
     "output_type": "execute_result"
    },
    {
     "data": {
      "image/png": "[encoded data removed]",
      "text/plain": [
       "<Figure size 792x432 with 1 Axes>"
      ]
     },
     "metadata": {
      "needs_background": "light"
     },
     "output_type": "display_data"
    }
   ],
   "source": [
    "# Knowing the number of Classes that exist mainly and the frequency\n",
    "rcParams['figure.figsize'] = 11, 6\n",
    "RANDOM_SEED = 42\n",
    "LABELS = [\"Normal\", \"Fraud\"]\n",
    "\n",
    "count_classes = pd.value_counts(data['Class'])\n",
    "\n",
    "count_classes.plot(kind = 'bar', rot=0)\n",
    "\n",
    "plt.title(\"Transaction Class Distribution\")\n",
    "\n",
    "plt.xticks(range(2), LABELS)\n",
    "\n",
    "plt.xlabel(\"Class\")\n",
    "\n",
    "plt.ylabel(\"Frequency\")"
   ]
  },
  {
   "cell_type": "markdown",
   "id": "4c85ff97-44de-4e2b-ae84-a92efdb1ab8f",
   "metadata": {},
   "source": [
    "##### We have a highly imbalanced dataset on our hands. Normal transactions overwhelm the fraudulent ones by a large margin. Let's look at the two types of transactions:"
   ]
  },
  {
   "cell_type": "code",
   "execution_count": 6,
   "id": "66fc2098-edd9-42fc-9447-cad23dcf545a",
   "metadata": {},
   "outputs": [],
   "source": [
    "# Get the Fraud and the normal dataset \n",
    "\n",
    "fraud = data[data['Class']==1]\n",
    "\n",
    "normal = data[data['Class']==0]"
   ]
  },
  {
   "cell_type": "code",
   "execution_count": 7,
   "id": "2e11bc71-5d57-4c40-88a6-b0c5f5a5497a",
   "metadata": {},
   "outputs": [
    {
     "name": "stdout",
     "output_type": "stream",
     "text": [
      "(492, 31) (284315, 31)\n"
     ]
    }
   ],
   "source": [
    "print(fraud.shape,normal.shape)"
   ]
  },
  {
   "cell_type": "code",
   "execution_count": 8,
   "id": "b219bbf4-1a44-4c94-a89c-092263e99b17",
   "metadata": {},
   "outputs": [
    {
     "data": {
      "text/plain": [
       "count     492.000000\n",
       "mean      122.211321\n",
       "std       256.683288\n",
       "min         0.000000\n",
       "25%         1.000000\n",
       "50%         9.250000\n",
       "75%       105.890000\n",
       "max      2125.870000\n",
       "Name: Amount, dtype: float64"
      ]
     },
     "execution_count": 8,
     "metadata": {},
     "output_type": "execute_result"
    }
   ],
   "source": [
    "# We need to analyze more amount of information from the transaction data\n",
    "fraud.Amount.describe()"
   ]
  },
  {
   "cell_type": "code",
   "execution_count": 9,
   "id": "4c5dda35-8efc-48f5-9095-47c802c4ed63",
   "metadata": {},
   "outputs": [
    {
     "data": {
      "text/plain": [
       "count    284315.000000\n",
       "mean         88.291022\n",
       "std         250.105092\n",
       "min           0.000000\n",
       "25%           5.650000\n",
       "50%          22.000000\n",
       "75%          77.050000\n",
       "max       25691.160000\n",
       "Name: Amount, dtype: float64"
      ]
     },
     "execution_count": 9,
     "metadata": {},
     "output_type": "execute_result"
    }
   ],
   "source": [
    "normal.Amount.describe()"
   ]
  },
  {
   "cell_type": "code",
   "execution_count": 10,
   "id": "774f45ea-1770-477a-8839-2efb520e8c5d",
   "metadata": {},
   "outputs": [
    {
     "data": {
      "image/png": "[encoded data removed]",
      "text/plain": [
       "<Figure size 792x432 with 2 Axes>"
      ]
     },
     "metadata": {
      "needs_background": "light"
     },
     "output_type": "display_data"
    }
   ],
   "source": [
    "# Try to explore the transaction waves in realtion to the amount\n",
    "f, (ax1, ax2) = plt.subplots(2, 1, sharex=True)\n",
    "f.suptitle('Amount per transaction by class')\n",
    "bins = 50\n",
    "ax1.hist(fraud.Amount, bins = bins)\n",
    "ax1.set_title('Fraud')\n",
    "ax2.hist(normal.Amount, bins = bins)\n",
    "ax2.set_title('Normal')\n",
    "plt.xlabel('Amount ($)')\n",
    "plt.ylabel('Number of Transactions')\n",
    "plt.xlim((0, 20000))\n",
    "plt.yscale('log')\n",
    "plt.show();"
   ]
  },
  {
   "cell_type": "code",
   "execution_count": 11,
   "id": "806e001f-c4dd-468c-862e-172799a87824",
   "metadata": {},
   "outputs": [
    {
     "data": {
      "text/plain": [
       "0         0\n",
       "1         0\n",
       "2         0\n",
       "3         0\n",
       "4         0\n",
       "         ..\n",
       "284802    0\n",
       "284803    0\n",
       "284804    0\n",
       "284805    0\n",
       "284806    0\n",
       "Name: Class, Length: 284807, dtype: int64"
      ]
     },
     "execution_count": 11,
     "metadata": {},
     "output_type": "execute_result"
    }
   ],
   "source": [
    "#creating target series\n",
    "target=data['Class']\n",
    "target"
   ]
  },
  {
   "cell_type": "code",
   "execution_count": 12,
   "id": "bf99c36b-1afe-4195-8b3b-12961ee60d4a",
   "metadata": {},
   "outputs": [
    {
     "data": {
      "text/plain": [
       "(284807, 30)"
      ]
     },
     "execution_count": 12,
     "metadata": {},
     "output_type": "execute_result"
    }
   ],
   "source": [
    "#dropping the target variable from the data set to clean the dataset\n",
    "data.drop('Class',axis=1,inplace=True)\n",
    "data.shape"
   ]
  },
  {
   "cell_type": "code",
   "execution_count": 13,
   "id": "d678b05b-5dba-4d63-86de-141418079bf2",
   "metadata": {},
   "outputs": [
    {
     "name": "stdout",
     "output_type": "stream",
     "text": [
      "[[ 0.00000000e+00 -1.35980713e+00 -7.27811733e-02 ...  1.33558377e-01\n",
      "  -2.10530535e-02  1.49620000e+02]\n",
      " [ 0.00000000e+00  1.19185711e+00  2.66150712e-01 ... -8.98309914e-03\n",
      "   1.47241692e-02  2.69000000e+00]\n",
      " [ 1.00000000e+00 -1.35835406e+00 -1.34016307e+00 ... -5.53527940e-02\n",
      "  -5.97518406e-02  3.78660000e+02]\n",
      " ...\n",
      " [ 1.72788000e+05  1.91956501e+00 -3.01253846e-01 ...  4.45477214e-03\n",
      "  -2.65608286e-02  6.78800000e+01]\n",
      " [ 1.72788000e+05 -2.40440050e-01  5.30482513e-01 ...  1.08820735e-01\n",
      "   1.04532821e-01  1.00000000e+01]\n",
      " [ 1.72792000e+05 -5.33412522e-01 -1.89733337e-01 ... -2.41530880e-03\n",
      "   1.36489143e-02  2.17000000e+02]]\n",
      "[0 0 0 ... 0 0 0]\n"
     ]
    }
   ],
   "source": [
    "#converting them to numpy arrays\n",
    "X=np.array(data)\n",
    "y=np.array(target)\n",
    "print(X)\n",
    "print(y)"
   ]
  },
  {
   "cell_type": "code",
   "execution_count": 14,
   "id": "7e0be50b-be6e-46cf-9a3e-db4f222e4d6e",
   "metadata": {},
   "outputs": [
    {
     "name": "stdout",
     "output_type": "stream",
     "text": [
      "(284807, 30)\n",
      "(284807,)\n"
     ]
    }
   ],
   "source": [
    "print(X.shape)\n",
    "print(y.shape)"
   ]
  },
  {
   "cell_type": "code",
   "execution_count": 15,
   "id": "8ce1bf0e-bfc2-4dce-ad17-3524a0649b95",
   "metadata": {},
   "outputs": [
    {
     "name": "stdout",
     "output_type": "stream",
     "text": [
      "492\n",
      "284315\n"
     ]
    }
   ],
   "source": [
    "#distribution of the target variable\n",
    "print(len(y[y==1]))\n",
    "print(len(y[y==0]))"
   ]
  },
  {
   "cell_type": "markdown",
   "id": "3d269420-c07e-4b99-a82f-e9c125834238",
   "metadata": {},
   "source": [
    "#### splitting the data set into train and test (75:25)"
   ]
  },
  {
   "cell_type": "code",
   "execution_count": 16,
   "id": "2a997f66-88f1-4823-9f6e-8cb91a022686",
   "metadata": {},
   "outputs": [
    {
     "name": "stdout",
     "output_type": "stream",
     "text": [
      "(213605, 30) (71202, 30) (213605,) (71202,)\n"
     ]
    }
   ],
   "source": [
    "X_train,X_test,y_train,y_test=train_test_split(X,y,test_size=0.25,random_state=1)\n",
    "print(X_train.shape,X_test.shape,y_train.shape,y_test.shape)"
   ]
  },
  {
   "cell_type": "markdown",
   "id": "b2f9334b-b57f-4769-bdf3-5c7a579884c5",
   "metadata": {},
   "source": [
    "#### applyting SMOTE to oversample the minority class"
   ]
  },
  {
   "cell_type": "code",
   "execution_count": 17,
   "id": "12d28ef1-4b21-44f1-9606-f74d16aa1b58",
   "metadata": {},
   "outputs": [
    {
     "name": "stdout",
     "output_type": "stream",
     "text": [
      "(426448, 30) (426448,)\n"
     ]
    }
   ],
   "source": [
    "sm=SMOTE(random_state=2)\n",
    "X_sm,y_sm=sm.fit_resample(X_train,y_train)\n",
    "print(X_sm.shape,y_sm.shape)"
   ]
  },
  {
   "cell_type": "markdown",
   "id": "2f4b2774-d097-4d45-92e3-3dc61464ea61",
   "metadata": {},
   "source": [
    "## Building the model\n",
    "#### Logistic Regression model"
   ]
  },
  {
   "cell_type": "code",
   "execution_count": 18,
   "id": "67688c1c-88cd-4680-86c4-a33a3bf3539c",
   "metadata": {},
   "outputs": [
    {
     "name": "stderr",
     "output_type": "stream",
     "text": [
      "C:\\Users\\abu_s\\anaconda3\\lib\\site-packages\\sklearn\\linear_model\\_logistic.py:763: ConvergenceWarning: lbfgs failed to converge (status=1):\n",
      "STOP: TOTAL NO. of ITERATIONS REACHED LIMIT.\n",
      "\n",
      "Increase the number of iterations (max_iter) or scale the data as shown in:\n",
      "    https://scikit-learn.org/stable/modules/preprocessing.html\n",
      "Please also refer to the documentation for alternative solver options:\n",
      "    https://scikit-learn.org/stable/modules/linear_model.html#logistic-regression\n",
      "  n_iter_i = _check_optimize_result(\n"
     ]
    }
   ],
   "source": [
    "logreg=LogisticRegression()\n",
    "logreg.fit(X_sm,y_sm)\n",
    "y_logreg=logreg.predict(X_test)\n",
    "y_logreg_prob=logreg.predict_proba(X_test)[:,1]"
   ]
  },
  {
   "cell_type": "markdown",
   "id": "cb722994-2099-408b-9c96-21f5ee16b274",
   "metadata": {},
   "source": [
    "#### Evaluating Model Performance "
   ]
  },
  {
   "cell_type": "code",
   "execution_count": 19,
   "id": "e20574d1-04d1-42b6-a50c-50adbd29c313",
   "metadata": {},
   "outputs": [
    {
     "name": "stdout",
     "output_type": "stream",
     "text": [
      "Confusion Matrix:\n",
      " [[70261   830]\n",
      " [   19    92]]\n",
      "Accuracy:\n",
      " 0.9880761776354596\n",
      "Precision:\n",
      " 0.09978308026030369\n",
      "Recall:\n",
      " 0.8288288288288288\n",
      "AUC:\n",
      " 0.9506834977780667\n"
     ]
    }
   ],
   "source": [
    "print(\"Confusion Matrix:\\n\",metrics.confusion_matrix(y_test,y_logreg))\n",
    "print(\"Accuracy:\\n\",metrics.accuracy_score(y_test,y_logreg))\n",
    "print(\"Precision:\\n\",metrics.precision_score(y_test,y_logreg))\n",
    "print(\"Recall:\\n\",metrics.recall_score(y_test,y_logreg))\n",
    "print(\"AUC:\\n\",metrics.roc_auc_score(y_test,y_logreg_prob))\n",
    "auc=metrics.roc_auc_score(y_test,y_logreg_prob)"
   ]
  },
  {
   "cell_type": "code",
   "execution_count": 20,
   "id": "447fbbe9-d19a-41c1-b705-ad4d7a5f18c0",
   "metadata": {},
   "outputs": [
    {
     "data": {
      "image/png": "[encoded data removed]",
      "text/plain": [
       "<Figure size 792x432 with 1 Axes>"
      ]
     },
     "metadata": {
      "needs_background": "light"
     },
     "output_type": "display_data"
    }
   ],
   "source": [
    "#plotting the ROC curve\n",
    "fpr,tpr,thresholds=metrics.roc_curve(y_test,y_logreg_prob)\n",
    "plt.plot(fpr,tpr,'b', label='AUC = %0.2f'% auc)\n",
    "plt.plot([0,1],[0,1],'r-.')\n",
    "plt.xlim([-0.2,1.2])\n",
    "plt.ylim([-0.2,1.2])\n",
    "plt.title('Receiver Operating Characteristic\\nLogistic Regression')\n",
    "plt.legend(loc='lower right')\n",
    "plt.ylabel('True Positive Rate')\n",
    "plt.xlabel('False Positive Rate')\n",
    "plt.show()"
   ]
  },
  {
   "cell_type": "markdown",
   "id": "14fa9b7e-8320-4650-bc8b-227003d18fb2",
   "metadata": {},
   "source": [
    "#### KNN model"
   ]
  },
  {
   "cell_type": "code",
   "execution_count": 21,
   "id": "f5e235b9-2c3b-4fe8-93c4-101631a341ca",
   "metadata": {},
   "outputs": [],
   "source": [
    "#K Nearest Neighbors\n",
    "knn=KNeighborsClassifier(n_neighbors=5)\n",
    "knn.fit(X_sm,y_sm)\n",
    "y_knn=knn.predict(X_test)\n",
    "y_knn_prob=knn.predict_proba(X_test)[:,1]"
   ]
  },
  {
   "cell_type": "markdown",
   "id": "14ab8310-743c-4137-bf72-4febaa6e7272",
   "metadata": {},
   "source": [
    "#### Evaluating Model Performance"
   ]
  },
  {
   "cell_type": "code",
   "execution_count": 22,
   "id": "133140e3-5ab9-4f90-9434-19f2a1005cd3",
   "metadata": {},
   "outputs": [
    {
     "name": "stdout",
     "output_type": "stream",
     "text": [
      "[[67323  3768]\n",
      " [   62    49]]\n",
      "0.9462093761411197\n",
      "0.012837306785433586\n",
      "0.44144144144144143\n",
      "0.711052171300304\n"
     ]
    }
   ],
   "source": [
    "print(metrics.confusion_matrix(y_test,y_knn))\n",
    "print(metrics.accuracy_score(y_test,y_knn))\n",
    "print(metrics.precision_score(y_test,y_knn))\n",
    "print(metrics.recall_score(y_test,y_knn))\n",
    "print(metrics.roc_auc_score(y_test,y_knn_prob))\n"
   ]
  },
  {
   "cell_type": "code",
   "execution_count": 23,
   "id": "eec8a4f0-7509-4204-9e8a-15dbb82d5b49",
   "metadata": {},
   "outputs": [
    {
     "data": {
      "image/png": "[encoded data removed]",
      "text/plain": [
       "<Figure size 792x432 with 1 Axes>"
      ]
     },
     "metadata": {
      "needs_background": "light"
     },
     "output_type": "display_data"
    }
   ],
   "source": [
    "#plotting the ROC curve\n",
    "fpr,tpr,thresholds=metrics.roc_curve(y_test,y_knn_prob)\n",
    "plt.plot(fpr,tpr,'b', label='AUC = %0.2f'% auc)\n",
    "plt.plot([0,1],[0,1],'r-.')\n",
    "plt.xlim([-0.2,1.2])\n",
    "plt.ylim([-0.2,1.2])\n",
    "plt.title('Receiver Operating Characteristic\\nK Nearest Neighbors')\n",
    "plt.legend(loc='lower right')\n",
    "plt.ylabel('True Positive Rate')\n",
    "plt.xlabel('False Positive Rate')\n",
    "plt.show()"
   ]
  },
  {
   "cell_type": "markdown",
   "id": "ee7031e3-dd6e-4461-bdef-a3628f2f26a7",
   "metadata": {},
   "source": [
    "#### Random Forest model"
   ]
  },
  {
   "cell_type": "code",
   "execution_count": null,
   "id": "385f9303-8ece-4554-aa38-bc64a1dd8617",
   "metadata": {},
   "outputs": [],
   "source": [
    "rf=RandomForestClassifier(random_state=3)\n",
    "rf.fit(X_sm,y_sm)\n",
    "y_rf=rf.predict(X_test)\n",
    "y_rf_prob=rf.predict_proba(X_test)[:,1]"
   ]
  },
  {
   "cell_type": "markdown",
   "id": "749b032f-997a-4725-90fb-f07bb9e00a27",
   "metadata": {},
   "source": [
    "#### Evaluating Model Performance"
   ]
  },
  {
   "cell_type": "code",
   "execution_count": null,
   "id": "58b103cc-9e2d-44c7-93cc-23a3ff1a759c",
   "metadata": {},
   "outputs": [],
   "source": [
    "#Performance metrics evaluation\n",
    "print(\"Confusion Matrix:\\n\",metrics.confusion_matrix(y_test,y_rf))\n",
    "print(\"Accuracy:\\n\",metrics.accuracy_score(y_test,y_rf))\n",
    "print(\"Precision:\\n\",metrics.precision_score(y_test,y_rf))\n",
    "print(\"Recall:\\n\",metrics.recall_score(y_test,y_rf))\n",
    "print(\"AUC:\\n\",metrics.roc_auc_score(y_test,y_rf_prob))\n",
    "auc=metrics.roc_auc_score(y_test,y_rf_prob)"
   ]
  },
  {
   "cell_type": "code",
   "execution_count": null,
   "id": "d705e212-06b2-4f0e-ac3f-cd36bb903ed6",
   "metadata": {},
   "outputs": [],
   "source": [
    "#plotting the ROC curve\n",
    "fpr,tpr,thresholds=metrics.roc_curve(y_test,y_rf_prob)\n",
    "plt.plot(fpr,tpr,'b', label='AUC = %0.2f'% auc)\n",
    "plt.plot([0,1],[0,1],'r-.')\n",
    "plt.xlim([-0.2,1.2])\n",
    "plt.ylim([-0.2,1.2])\n",
    "plt.title('Receiver Operating Characteristic\\nRandom Forest')\n",
    "plt.legend(loc='lower right')\n",
    "plt.ylabel('True Positive Rate')\n",
    "plt.xlabel('False Positive Rate')\n",
    "plt.show()"
   ]
  },
  {
   "cell_type": "code",
   "execution_count": null,
   "id": "08823e3d-daca-4966-9622-d271d8e813ce",
   "metadata": {},
   "outputs": [],
   "source": []
  }
 ],
 "metadata": {
  "kernelspec": {
   "display_name": "Python 3",
   "language": "python",
   "name": "python3"
  },
  "language_info": {
   "codemirror_mode": {
    "name": "ipython",
    "version": 3
   },
   "file_extension": ".py",
   "mimetype": "text/x-python",
   "name": "python",
   "nbconvert_exporter": "python",
   "pygments_lexer": "ipython3",
   "version": "3.8.8"
  }
 },
 "nbformat": 4,
 "nbformat_minor": 5
}
